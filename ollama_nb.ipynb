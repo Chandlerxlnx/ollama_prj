{
 "cells": [
  {
   "cell_type": "markdown",
   "id": "b2a7f64a",
   "metadata": {},
   "source": [
    "# ollama test notebook\n",
    "this is note book running ollama"
   ]
  },
  {
   "cell_type": "code",
   "execution_count": 6,
   "id": "34e015a1",
   "metadata": {},
   "outputs": [],
   "source": [
    "# %load ./ollama_test1.py\n",
    "import requests\n",
    "import json\n",
    "import gradio as gr\n",
    "\n",
    "url = \"http://localhost:11434/api/generate\"\n",
    "\n",
    "headers = {\n",
    "    'Content-Type': 'application/json',\n",
    "}\n",
    "\n",
    "conversation_history = []\n",
    "\n",
    "def generate_response(prompt):\n",
    "    conversation_history.append(prompt)\n",
    "\n",
    "    full_prompt = \"\\n\".join(conversation_history)\n",
    "\n",
    "    data = {\n",
    "        \"model\": \"mistral\",\n",
    "        #\"model\": \"llama3\",\n",
    "        \"stream\": False,\n",
    "        \"prompt\": full_prompt,\n",
    "    }\n",
    "\n",
    "    response = requests.post(url, headers=headers, data=json.dumps(data))\n",
    "\n",
    "    if response.status_code == 200:\n",
    "        response_text = response.text\n",
    "        data = json.loads(response_text)\n",
    "        actual_response = data[\"response\"]\n",
    "        conversation_history.append(actual_response)\n",
    "        return actual_response\n",
    "    else:\n",
    "        print(\"Error:\", response.status_code, response.text)\n",
    "        return None\n",
    "\n"
   ]
  },
  {
   "cell_type": "markdown",
   "id": "6e5eda02",
   "metadata": {},
   "source": [
    "iface = gr.Interface(\n",
    "    fn=generate_response,\n",
    "    inputs=gr.inputs.Textbox(lines=2, placeholder=\"Enter your prompt here...\"),\n",
    "    outputs=\"text\"\n",
    ")\n",
    "\n",
    "iface.launch()"
   ]
  },
  {
   "cell_type": "code",
   "execution_count": 7,
   "id": "79d61578",
   "metadata": {},
   "outputs": [],
   "source": [
    "iface=gr.Interface(fn=generate_response,\n",
    "            inputs=gr.Textbox(lines=2,placeholder=\"Enter your prompt here\"),outputs=\"text\")"
   ]
  },
  {
   "cell_type": "code",
   "execution_count": 8,
   "id": "9c011ba7",
   "metadata": {},
   "outputs": [
    {
     "name": "stdout",
     "output_type": "stream",
     "text": [
      "Running on local URL:  http://127.0.0.1:7862\n",
      "\n",
      "To create a public link, set `share=True` in `launch()`.\n"
     ]
    },
    {
     "data": {
      "text/html": [
       "<div><iframe src=\"http://127.0.0.1:7862/\" width=\"100%\" height=\"500\" allow=\"autoplay; camera; microphone; clipboard-read; clipboard-write;\" frameborder=\"0\" allowfullscreen></iframe></div>"
      ],
      "text/plain": [
       "<IPython.core.display.HTML object>"
      ]
     },
     "metadata": {},
     "output_type": "display_data"
    },
    {
     "data": {
      "text/plain": []
     },
     "execution_count": 8,
     "metadata": {},
     "output_type": "execute_result"
    }
   ],
   "source": [
    "iface.launch()"
   ]
  },
  {
   "cell_type": "code",
   "execution_count": null,
   "id": "46c61898",
   "metadata": {},
   "outputs": [],
   "source": []
  }
 ],
 "metadata": {
  "kernelspec": {
   "display_name": "Python 3 (ipykernel)",
   "language": "python",
   "name": "python3"
  },
  "language_info": {
   "codemirror_mode": {
    "name": "ipython",
    "version": 3
   },
   "file_extension": ".py",
   "mimetype": "text/x-python",
   "name": "python",
   "nbconvert_exporter": "python",
   "pygments_lexer": "ipython3",
   "version": "3.9.12"
  }
 },
 "nbformat": 4,
 "nbformat_minor": 5
}
